{
 "cells": [
  {
   "cell_type": "code",
   "execution_count": 4,
   "id": "ac360eab",
   "metadata": {},
   "outputs": [],
   "source": [
    "#dependencies\n",
    "import pandas as pd\n",
    "from pathlib import Path"
   ]
  },
  {
   "cell_type": "code",
   "execution_count": 60,
   "id": "19dbd41b",
   "metadata": {},
   "outputs": [
    {
     "data": {
      "text/html": [
       "<div>\n",
       "<style scoped>\n",
       "    .dataframe tbody tr th:only-of-type {\n",
       "        vertical-align: middle;\n",
       "    }\n",
       "\n",
       "    .dataframe tbody tr th {\n",
       "        vertical-align: top;\n",
       "    }\n",
       "\n",
       "    .dataframe thead th {\n",
       "        text-align: right;\n",
       "    }\n",
       "</style>\n",
       "<table border=\"1\" class=\"dataframe\">\n",
       "  <thead>\n",
       "    <tr style=\"text-align: right;\">\n",
       "      <th></th>\n",
       "      <th>Ballot ID</th>\n",
       "      <th>County</th>\n",
       "      <th>Candidate</th>\n",
       "    </tr>\n",
       "  </thead>\n",
       "  <tbody>\n",
       "    <tr>\n",
       "      <th>0</th>\n",
       "      <td>1323913</td>\n",
       "      <td>Jefferson</td>\n",
       "      <td>Charles Casper Stockham</td>\n",
       "    </tr>\n",
       "    <tr>\n",
       "      <th>1</th>\n",
       "      <td>1005842</td>\n",
       "      <td>Jefferson</td>\n",
       "      <td>Charles Casper Stockham</td>\n",
       "    </tr>\n",
       "    <tr>\n",
       "      <th>2</th>\n",
       "      <td>1880345</td>\n",
       "      <td>Jefferson</td>\n",
       "      <td>Charles Casper Stockham</td>\n",
       "    </tr>\n",
       "    <tr>\n",
       "      <th>3</th>\n",
       "      <td>1600337</td>\n",
       "      <td>Jefferson</td>\n",
       "      <td>Charles Casper Stockham</td>\n",
       "    </tr>\n",
       "    <tr>\n",
       "      <th>4</th>\n",
       "      <td>1835994</td>\n",
       "      <td>Jefferson</td>\n",
       "      <td>Charles Casper Stockham</td>\n",
       "    </tr>\n",
       "  </tbody>\n",
       "</table>\n",
       "</div>"
      ],
      "text/plain": [
       "   Ballot ID     County                Candidate\n",
       "0    1323913  Jefferson  Charles Casper Stockham\n",
       "1    1005842  Jefferson  Charles Casper Stockham\n",
       "2    1880345  Jefferson  Charles Casper Stockham\n",
       "3    1600337  Jefferson  Charles Casper Stockham\n",
       "4    1835994  Jefferson  Charles Casper Stockham"
      ]
     },
     "execution_count": 60,
     "metadata": {},
     "output_type": "execute_result"
    }
   ],
   "source": [
    "election_data = Path(\"Resources/election_data.csv\")\n",
    "election_df = pd.read_csv(election_data)\n",
    "election_df.head()"
   ]
  },
  {
   "cell_type": "code",
   "execution_count": 6,
   "id": "5508b0c2",
   "metadata": {},
   "outputs": [
    {
     "name": "stdout",
     "output_type": "stream",
     "text": [
      "Total Votes: 369711\n"
     ]
    }
   ],
   "source": [
    "#The total number of votes cast\n",
    "TotalVotes = len(election_df)\n"
   ]
  },
  {
   "cell_type": "code",
   "execution_count": 7,
   "id": "9b5ca91b",
   "metadata": {},
   "outputs": [
    {
     "data": {
      "text/plain": [
       "array(['Charles Casper Stockham', 'Diana DeGette', 'Raymon Anthony Doane'],\n",
       "      dtype=object)"
      ]
     },
     "execution_count": 7,
     "metadata": {},
     "output_type": "execute_result"
    }
   ],
   "source": [
    "#A complete list of candidates who received votes\n",
    "Candidates = election_df[\"Candidate\"].unique()\n",
    "Candidates"
   ]
  },
  {
   "cell_type": "code",
   "execution_count": 63,
   "id": "3b09e645",
   "metadata": {},
   "outputs": [],
   "source": [
    "#The percentage of votes each candidate won\n",
    "\n",
    "#Total Votes and Percentage for Charles Casper Stockham\n",
    "CCST =  len(election_df.loc[election_df[\"Candidate\"]=='Charles Casper Stockham'])\n",
    "CCSP = CCST/TotalVotes*100\n",
    "\n",
    "#Total Votes and Percentage for  Diana DeGette\n",
    "DDT =  len(election_df.loc[election_df[\"Candidate\"]=='Diana DeGette'])\n",
    "DDP = DDT/TotalVotes*100\n",
    "\n",
    "#Total Votes and Percentage for  Raymon Anthony Doane\n",
    "RADT =  len(election_df.loc[election_df[\"Candidate\"]=='Raymon Anthony Doane'])\n",
    "RADP = RADT/TotalVotes*100\n",
    "\n",
    "#Winner of the Election\n",
    "Winner = \"Diana DeGette\""
   ]
  },
  {
   "cell_type": "code",
   "execution_count": 64,
   "id": "554abb25",
   "metadata": {},
   "outputs": [
    {
     "name": "stdout",
     "output_type": "stream",
     "text": [
      "Election Results\n",
      "-----------------------------------------------------------\n",
      "Total Votes: 369711\n",
      "-----------------------------------------------------------\n",
      "Charles Casper Stockham: 23.049% (85213)\n",
      "Diana DeGette: 73.812% (272892)\n",
      "Raymon Anthony Doane: 3.139% (11606)\n",
      "-----------------------------------------------------------\n",
      "Winner: Diana DeGette!\n"
     ]
    }
   ],
   "source": [
    "print(\"Election Results\")\n",
    "print(\"-----------------------------------------------------------\")\n",
    "print(f'Total Votes: {TotalVotes}')\n",
    "print(\"-----------------------------------------------------------\")\n",
    "print(f'Charles Casper Stockham: {round(CCSP,3)}% ({CCST})')\n",
    "print(f'Diana DeGette: {round(DDP,3)}% ({DDT})')\n",
    "print(f'Raymon Anthony Doane: {round(RADP,3)}% ({RADT})')\n",
    "print(\"-----------------------------------------------------------\")\n",
    "print(f'Winner: {Winner}!')"
   ]
  },
  {
   "cell_type": "code",
   "execution_count": 65,
   "id": "8c7ef8b0",
   "metadata": {},
   "outputs": [],
   "source": [
    "election_df.to_csv(\"Analysis/election_df.csv\", index=False)"
   ]
  },
  {
   "cell_type": "code",
   "execution_count": 5,
   "id": "ecbbc461",
   "metadata": {},
   "outputs": [],
   "source": [
    "lines = ['Readme', 'Analysis Results','Election Results',\n",
    "'-----------------------------------------------------------',\n",
    "'Total Votes: 369711',\n",
    "'-----------------------------------------------------------',\n",
    "'Charles Casper Stockham: 23.049% (85213)',\n",
    "'Diana DeGette: 73.812% (272892)',\n",
    "'Raymon Anthony Doane: 3.139% (11606)',\n",
    "'-----------------------------------------------------------',\n",
    "'Winner: Diana DeGette!']\n",
    "\n",
    "with open('readme.txt', 'w') as f:\n",
    "    f.write('\\n'.join(lines))"
   ]
  },
  {
   "cell_type": "code",
   "execution_count": null,
   "id": "2718a9b0",
   "metadata": {},
   "outputs": [],
   "source": []
  }
 ],
 "metadata": {
  "kernelspec": {
   "display_name": "Python 3 (ipykernel)",
   "language": "python",
   "name": "python3"
  },
  "language_info": {
   "codemirror_mode": {
    "name": "ipython",
    "version": 3
   },
   "file_extension": ".py",
   "mimetype": "text/x-python",
   "name": "python",
   "nbconvert_exporter": "python",
   "pygments_lexer": "ipython3",
   "version": "3.11.4"
  }
 },
 "nbformat": 4,
 "nbformat_minor": 5
}
