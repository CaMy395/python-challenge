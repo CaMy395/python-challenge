{
 "cells": [
  {
   "cell_type": "code",
   "execution_count": 29,
   "id": "ac360eab",
   "metadata": {},
   "outputs": [],
   "source": [
    "#dependencies\n",
    "import pandas as pd\n",
    "from pathlib import Path"
   ]
  },
  {
   "cell_type": "code",
   "execution_count": 30,
   "id": "19dbd41b",
   "metadata": {},
   "outputs": [
    {
     "data": {
      "text/html": [
       "<div>\n",
       "<style scoped>\n",
       "    .dataframe tbody tr th:only-of-type {\n",
       "        vertical-align: middle;\n",
       "    }\n",
       "\n",
       "    .dataframe tbody tr th {\n",
       "        vertical-align: top;\n",
       "    }\n",
       "\n",
       "    .dataframe thead th {\n",
       "        text-align: right;\n",
       "    }\n",
       "</style>\n",
       "<table border=\"1\" class=\"dataframe\">\n",
       "  <thead>\n",
       "    <tr style=\"text-align: right;\">\n",
       "      <th></th>\n",
       "      <th>Ballot ID</th>\n",
       "      <th>County</th>\n",
       "      <th>Candidate</th>\n",
       "    </tr>\n",
       "  </thead>\n",
       "  <tbody>\n",
       "    <tr>\n",
       "      <th>369706</th>\n",
       "      <td>4714953</td>\n",
       "      <td>Arapahoe</td>\n",
       "      <td>Raymon Anthony Doane</td>\n",
       "    </tr>\n",
       "    <tr>\n",
       "      <th>369707</th>\n",
       "      <td>4497542</td>\n",
       "      <td>Arapahoe</td>\n",
       "      <td>Raymon Anthony Doane</td>\n",
       "    </tr>\n",
       "    <tr>\n",
       "      <th>369708</th>\n",
       "      <td>4085849</td>\n",
       "      <td>Arapahoe</td>\n",
       "      <td>Raymon Anthony Doane</td>\n",
       "    </tr>\n",
       "    <tr>\n",
       "      <th>369709</th>\n",
       "      <td>4592018</td>\n",
       "      <td>Arapahoe</td>\n",
       "      <td>Raymon Anthony Doane</td>\n",
       "    </tr>\n",
       "    <tr>\n",
       "      <th>369710</th>\n",
       "      <td>4660518</td>\n",
       "      <td>Arapahoe</td>\n",
       "      <td>Raymon Anthony Doane</td>\n",
       "    </tr>\n",
       "  </tbody>\n",
       "</table>\n",
       "</div>"
      ],
      "text/plain": [
       "        Ballot ID    County             Candidate\n",
       "369706    4714953  Arapahoe  Raymon Anthony Doane\n",
       "369707    4497542  Arapahoe  Raymon Anthony Doane\n",
       "369708    4085849  Arapahoe  Raymon Anthony Doane\n",
       "369709    4592018  Arapahoe  Raymon Anthony Doane\n",
       "369710    4660518  Arapahoe  Raymon Anthony Doane"
      ]
     },
     "execution_count": 30,
     "metadata": {},
     "output_type": "execute_result"
    }
   ],
   "source": [
    "election_data = Path(\"Resources/election_data.csv\")\n",
    "election_df = pd.read_csv(election_data)\n",
    "election_df.tail()"
   ]
  },
  {
   "cell_type": "code",
   "execution_count": 31,
   "id": "5508b0c2",
   "metadata": {},
   "outputs": [
    {
     "name": "stdout",
     "output_type": "stream",
     "text": [
      "Total Votes: 369711\n"
     ]
    }
   ],
   "source": [
    "#The total number of votes cast\n",
    "TotalVotes = len(election_df)\n",
    "print(f'Total Votes: {TotalVotes}')"
   ]
  },
  {
   "cell_type": "code",
   "execution_count": 32,
   "id": "9b5ca91b",
   "metadata": {},
   "outputs": [
    {
     "data": {
      "text/plain": [
       "array(['Charles Casper Stockham', 'Diana DeGette', 'Raymon Anthony Doane'],\n",
       "      dtype=object)"
      ]
     },
     "execution_count": 32,
     "metadata": {},
     "output_type": "execute_result"
    }
   ],
   "source": [
    "#A complete list of candidates who received votes\n",
    "Candidates = election_df[\"Candidate\"].unique()\n",
    "Candidates"
   ]
  },
  {
   "cell_type": "code",
   "execution_count": 33,
   "id": "3b09e645",
   "metadata": {},
   "outputs": [
    {
     "data": {
      "text/html": [
       "<div>\n",
       "<style scoped>\n",
       "    .dataframe tbody tr th:only-of-type {\n",
       "        vertical-align: middle;\n",
       "    }\n",
       "\n",
       "    .dataframe tbody tr th {\n",
       "        vertical-align: top;\n",
       "    }\n",
       "\n",
       "    .dataframe thead th {\n",
       "        text-align: right;\n",
       "    }\n",
       "</style>\n",
       "<table border=\"1\" class=\"dataframe\">\n",
       "  <thead>\n",
       "    <tr style=\"text-align: right;\">\n",
       "      <th></th>\n",
       "      <th>Ballot ID</th>\n",
       "      <th>County</th>\n",
       "      <th>Candidate</th>\n",
       "    </tr>\n",
       "  </thead>\n",
       "  <tbody>\n",
       "    <tr>\n",
       "      <th>0</th>\n",
       "      <td>1323913</td>\n",
       "      <td>Jefferson</td>\n",
       "      <td>Charles Casper Stockham</td>\n",
       "    </tr>\n",
       "    <tr>\n",
       "      <th>1</th>\n",
       "      <td>1005842</td>\n",
       "      <td>Jefferson</td>\n",
       "      <td>Charles Casper Stockham</td>\n",
       "    </tr>\n",
       "    <tr>\n",
       "      <th>2</th>\n",
       "      <td>1880345</td>\n",
       "      <td>Jefferson</td>\n",
       "      <td>Charles Casper Stockham</td>\n",
       "    </tr>\n",
       "    <tr>\n",
       "      <th>3</th>\n",
       "      <td>1600337</td>\n",
       "      <td>Jefferson</td>\n",
       "      <td>Charles Casper Stockham</td>\n",
       "    </tr>\n",
       "    <tr>\n",
       "      <th>4</th>\n",
       "      <td>1835994</td>\n",
       "      <td>Jefferson</td>\n",
       "      <td>Charles Casper Stockham</td>\n",
       "    </tr>\n",
       "    <tr>\n",
       "      <th>...</th>\n",
       "      <td>...</td>\n",
       "      <td>...</td>\n",
       "      <td>...</td>\n",
       "    </tr>\n",
       "    <tr>\n",
       "      <th>353207</th>\n",
       "      <td>4142285</td>\n",
       "      <td>Arapahoe</td>\n",
       "      <td>Charles Casper Stockham</td>\n",
       "    </tr>\n",
       "    <tr>\n",
       "      <th>353208</th>\n",
       "      <td>4727490</td>\n",
       "      <td>Arapahoe</td>\n",
       "      <td>Charles Casper Stockham</td>\n",
       "    </tr>\n",
       "    <tr>\n",
       "      <th>353209</th>\n",
       "      <td>4692135</td>\n",
       "      <td>Arapahoe</td>\n",
       "      <td>Charles Casper Stockham</td>\n",
       "    </tr>\n",
       "    <tr>\n",
       "      <th>353210</th>\n",
       "      <td>4143236</td>\n",
       "      <td>Arapahoe</td>\n",
       "      <td>Charles Casper Stockham</td>\n",
       "    </tr>\n",
       "    <tr>\n",
       "      <th>353211</th>\n",
       "      <td>4827189</td>\n",
       "      <td>Arapahoe</td>\n",
       "      <td>Charles Casper Stockham</td>\n",
       "    </tr>\n",
       "  </tbody>\n",
       "</table>\n",
       "<p>85213 rows × 3 columns</p>\n",
       "</div>"
      ],
      "text/plain": [
       "        Ballot ID     County                Candidate\n",
       "0         1323913  Jefferson  Charles Casper Stockham\n",
       "1         1005842  Jefferson  Charles Casper Stockham\n",
       "2         1880345  Jefferson  Charles Casper Stockham\n",
       "3         1600337  Jefferson  Charles Casper Stockham\n",
       "4         1835994  Jefferson  Charles Casper Stockham\n",
       "...           ...        ...                      ...\n",
       "353207    4142285   Arapahoe  Charles Casper Stockham\n",
       "353208    4727490   Arapahoe  Charles Casper Stockham\n",
       "353209    4692135   Arapahoe  Charles Casper Stockham\n",
       "353210    4143236   Arapahoe  Charles Casper Stockham\n",
       "353211    4827189   Arapahoe  Charles Casper Stockham\n",
       "\n",
       "[85213 rows x 3 columns]"
      ]
     },
     "execution_count": 33,
     "metadata": {},
     "output_type": "execute_result"
    }
   ],
   "source": [
    "#The percentage of votes each candidate won\n",
    "election_df.loc[election_df[\"Candidate\"]=='Charles Casper Stockham']"
   ]
  },
  {
   "cell_type": "code",
   "execution_count": null,
   "id": "554abb25",
   "metadata": {},
   "outputs": [],
   "source": []
  }
 ],
 "metadata": {
  "kernelspec": {
   "display_name": "Python 3 (ipykernel)",
   "language": "python",
   "name": "python3"
  },
  "language_info": {
   "codemirror_mode": {
    "name": "ipython",
    "version": 3
   },
   "file_extension": ".py",
   "mimetype": "text/x-python",
   "name": "python",
   "nbconvert_exporter": "python",
   "pygments_lexer": "ipython3",
   "version": "3.11.4"
  }
 },
 "nbformat": 4,
 "nbformat_minor": 5
}
