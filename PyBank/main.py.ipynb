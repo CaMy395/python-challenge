{
 "cells": [
  {
   "cell_type": "code",
   "execution_count": 19,
   "id": "04e097c9",
   "metadata": {},
   "outputs": [],
   "source": [
    "#dependencies\n",
    "import pandas as pd\n",
    "from pathlib import Path"
   ]
  },
  {
   "cell_type": "code",
   "execution_count": 36,
   "id": "aba64164",
   "metadata": {},
   "outputs": [
    {
     "data": {
      "text/html": [
       "<div>\n",
       "<style scoped>\n",
       "    .dataframe tbody tr th:only-of-type {\n",
       "        vertical-align: middle;\n",
       "    }\n",
       "\n",
       "    .dataframe tbody tr th {\n",
       "        vertical-align: top;\n",
       "    }\n",
       "\n",
       "    .dataframe thead th {\n",
       "        text-align: right;\n",
       "    }\n",
       "</style>\n",
       "<table border=\"1\" class=\"dataframe\">\n",
       "  <thead>\n",
       "    <tr style=\"text-align: right;\">\n",
       "      <th></th>\n",
       "      <th>Date</th>\n",
       "      <th>Profit/Losses</th>\n",
       "    </tr>\n",
       "  </thead>\n",
       "  <tbody>\n",
       "    <tr>\n",
       "      <th>0</th>\n",
       "      <td>Jan-10</td>\n",
       "      <td>1088983</td>\n",
       "    </tr>\n",
       "    <tr>\n",
       "      <th>1</th>\n",
       "      <td>Feb-10</td>\n",
       "      <td>-354534</td>\n",
       "    </tr>\n",
       "    <tr>\n",
       "      <th>2</th>\n",
       "      <td>Mar-10</td>\n",
       "      <td>276622</td>\n",
       "    </tr>\n",
       "    <tr>\n",
       "      <th>3</th>\n",
       "      <td>Apr-10</td>\n",
       "      <td>-728133</td>\n",
       "    </tr>\n",
       "    <tr>\n",
       "      <th>4</th>\n",
       "      <td>May-10</td>\n",
       "      <td>852993</td>\n",
       "    </tr>\n",
       "  </tbody>\n",
       "</table>\n",
       "</div>"
      ],
      "text/plain": [
       "     Date  Profit/Losses\n",
       "0  Jan-10        1088983\n",
       "1  Feb-10        -354534\n",
       "2  Mar-10         276622\n",
       "3  Apr-10        -728133\n",
       "4  May-10         852993"
      ]
     },
     "execution_count": 36,
     "metadata": {},
     "output_type": "execute_result"
    }
   ],
   "source": [
    "budget_file = Path(\"Resources/budget_data.csv\")\n",
    "budget_df = pd.read_csv(budget_file)\n",
    "budget_df.head()"
   ]
  },
  {
   "cell_type": "code",
   "execution_count": 55,
   "id": "402bb5d1",
   "metadata": {},
   "outputs": [],
   "source": [
    "TotalMonths = len(budget_df[\"Date\"])\n",
    "NetTotal = budget_df[\"Profit/Losses\"].sum()\n",
    "Diff_df = budget_df[\"Profit/Losses\"].diff()\n",
    "Average = round(Diff_df.mean(),2)\n",
    "MaxInc = int(Diff_df.max())\n",
    "MaxDec = int(Diff_df.min())\n",
    "MaxDateInc = budget_df.loc[Diff_df == MaxInc,'Date']\n",
    "MaxDateDec = budget_df.loc[Diff_df == MaxDec,'Date']"
   ]
  },
  {
   "cell_type": "code",
   "execution_count": 58,
   "id": "7aee6600",
   "metadata": {},
   "outputs": [
    {
     "name": "stdout",
     "output_type": "stream",
     "text": [
      "Financial Analysis\n",
      "---------------------------------------------\n",
      "Total Months: 86\n",
      "Total: $22564198\n",
      "Average Change: $-8311.11\n",
      "Greatest Increase in Profits: 79    Aug-16\n",
      "Name: Date, dtype: object ($1862002)\n",
      "Greatest Decrease in Profits: 49    Feb-14\n",
      "Name: Date, dtype: object ($-1825558)\n"
     ]
    }
   ],
   "source": [
    "print(\"Financial Analysis\")\n",
    "print(\"---------------------------------------------\")\n",
    "print(f\"Total Months: {TotalMonths}\")\n",
    "print(f\"Total: ${NetTotal}\")\n",
    "print(f\"Average Change: ${Average}\")\n",
    "print(f\"Greatest Increase in Profits: {MaxDateInc} (${MaxInc})\")\n",
    "print(f\"Greatest Decrease in Profits: {MaxDateDec} (${MaxDec})\")"
   ]
  },
  {
   "cell_type": "code",
   "execution_count": 60,
   "id": "5f46d323",
   "metadata": {},
   "outputs": [],
   "source": [
    "lines = ['Readme', 'Analysis Results','Financial Analysis',\n",
    "'---------------------------------------------'\n",
    "'Total Months: 86',\n",
    "'Total: $22564198',\n",
    "'Average Change: $-8311.11',\n",
    "'Greatest Increase in Profits: 79    Aug-16 ($1862002)'\n",
    "'Greatest Decrease in Profits: 49    Feb-14 ($-1825558)']\n",
    "\n",
    "with open('readme.txt', 'w') as f:\n",
    "    f.write('\\n'.join(lines))"
   ]
  },
  {
   "cell_type": "code",
   "execution_count": null,
   "id": "f00dca5d",
   "metadata": {},
   "outputs": [],
   "source": []
  }
 ],
 "metadata": {
  "kernelspec": {
   "display_name": "Python 3 (ipykernel)",
   "language": "python",
   "name": "python3"
  },
  "language_info": {
   "codemirror_mode": {
    "name": "ipython",
    "version": 3
   },
   "file_extension": ".py",
   "mimetype": "text/x-python",
   "name": "python",
   "nbconvert_exporter": "python",
   "pygments_lexer": "ipython3",
   "version": "3.11.4"
  }
 },
 "nbformat": 4,
 "nbformat_minor": 5
}
